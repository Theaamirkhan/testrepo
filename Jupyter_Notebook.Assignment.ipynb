{
 "cells": [
  {
   "cell_type": "markdown",
   "id": "4d14e836-d161-40b1-b692-5b60957ca8e3",
   "metadata": {},
   "source": [
    "# My Jupyter Notebook on IBM Watson Studio"
   ]
  },
  {
   "cell_type": "markdown",
   "id": "6d0ddada-7010-48da-9161-590cf75d1739",
   "metadata": {},
   "source": [
    "## Aamir khan"
   ]
  },
  {
   "cell_type": "markdown",
   "id": "e95558bb-1f30-4424-a958-47641d499168",
   "metadata": {},
   "source": [
    "### 100% Human"
   ]
  },
  {
   "cell_type": "markdown",
   "id": "1bc3471a-99e3-4307-9f28-7bf43f76a83a",
   "metadata": {},
   "source": [
    "*I am interested in data science because I love to gain insights from data.*"
   ]
  },
  {
   "cell_type": "markdown",
   "id": "a87070d5-9986-43c8-8848-d809892b7a8f",
   "metadata": {},
   "source": [
    "**The following code tests the Gauss Formula**"
   ]
  },
  {
   "cell_type": "code",
   "execution_count": 1,
   "id": "f88eca22-0705-4e7e-ab20-c111c7564c46",
   "metadata": {},
   "outputs": [
    {
     "data": {
      "text/plain": [
       "True"
      ]
     },
     "execution_count": 1,
     "metadata": {},
     "output_type": "execute_result"
    }
   ],
   "source": [
    "def gauss(n):\n",
    "    return (n*(n+1))/2\n",
    "\n",
    "gauss(100) == sum(range(101))"
   ]
  },
  {
   "cell_type": "markdown",
   "id": "a1a97d89-995a-4978-9dc7-0031d5830e2b",
   "metadata": {},
   "source": [
    "# A markdown cell to list "
   ]
  },
  {
   "cell_type": "markdown",
   "id": "0c086307-2c8d-4f05-b96d-28e62c8fee3c",
   "metadata": {},
   "source": [
    "- one\n",
    "- two\n",
    "- three\n",
    "- four\n",
    "- five\n",
    "- six"
   ]
  },
  {
   "cell_type": "markdown",
   "id": "e01adfe2-462e-43d6-a05f-57b0e1e3ca6b",
   "metadata": {},
   "source": [
    "- one\n",
    "- two\n",
    "- three\n",
    "- four\n",
    "- five\n",
    "- six"
   ]
  },
  {
   "cell_type": "markdown",
   "id": "af2becf3-18ca-4371-a359-259c681220dc",
   "metadata": {},
   "source": [
    "# A markdown cell with a table "
   ]
  },
  {
   "cell_type": "markdown",
   "id": "acfa99b8-82d1-4bce-bdf3-cc2051f873db",
   "metadata": {},
   "source": [
    "|   NAME   |   HOME   |   CAR   |\n",
    "|----------|----------|---------|\n",
    "|  Aamir   |   India  |Rolls-Royce|\n",
    "|  Nitin   | India    |Lemborgini |\n",
    "|  Ajay    | India    |Ferrari   |\n",
    "| Ajmer    | India    | Range-Rover|\n",
    "|Jagvir    | India    | Land-Cruiser|"
   ]
  },
  {
   "cell_type": "markdown",
   "id": "731da980-8df9-4e11-a125-bbe7ff5e9e69",
   "metadata": {},
   "source": [
    "# Create a code cell to multiply and add numbers"
   ]
  },
  {
   "cell_type": "code",
   "execution_count": 4,
   "id": "f641bb91-f1de-469f-bee5-2e6119157c59",
   "metadata": {},
   "outputs": [
    {
     "name": "stdout",
     "output_type": "stream",
     "text": [
      "Addition of a and b is = 22\n",
      "Mutiplication of a and b is = 120\n"
     ]
    }
   ],
   "source": [
    "a= 10\n",
    "b= 12\n",
    "c= a+b\n",
    "print(\"Addition of a and b is =\" ,c)\n",
    "d= a*b\n",
    "print(\"Mutiplication of a and b is =\" ,d)\n",
    "\n"
   ]
  },
  {
   "cell_type": "markdown",
   "id": "3652fbd3-12d6-412f-b8a8-e32a2d836253",
   "metadata": {},
   "source": [
    "# Convert seconds into preferred format."
   ]
  },
  {
   "cell_type": "code",
   "execution_count": 13,
   "id": "23c7c892-e354-4174-a737-0e3fcf5f2cc8",
   "metadata": {},
   "outputs": [
    {
     "name": "stdout",
     "output_type": "stream",
     "text": [
      "Time in preferred format :- 02:46:40\n"
     ]
    }
   ],
   "source": [
    "import time\n",
    "n=10000\n",
    "time_format = time.strftime(\"%H:%M:%S\", time.gmtime(n))\n",
    "print(\"Time in preferred format :-\",time_format)"
   ]
  },
  {
   "cell_type": "markdown",
   "id": "d56282da-b59e-4b96-b7fb-1806b5bdfe16",
   "metadata": {},
   "source": [
    "# Create a markdown cell to indicate the Author’s name."
   ]
  },
  {
   "cell_type": "markdown",
   "id": "d969f7ff-1b37-41dc-a55b-7f521ff5d374",
   "metadata": {},
   "source": [
    "### Romeo Kienzler"
   ]
  },
  {
   "cell_type": "code",
   "execution_count": null,
   "id": "26d4ed98-9032-4d0a-8c19-a04f03b14aea",
   "metadata": {},
   "outputs": [],
   "source": []
  }
 ],
 "metadata": {
  "kernelspec": {
   "display_name": "Python",
   "language": "python",
   "name": "conda-env-python-py"
  },
  "language_info": {
   "codemirror_mode": {
    "name": "ipython",
    "version": 3
   },
   "file_extension": ".py",
   "mimetype": "text/x-python",
   "name": "python",
   "nbconvert_exporter": "python",
   "pygments_lexer": "ipython3",
   "version": "3.7.12"
  }
 },
 "nbformat": 4,
 "nbformat_minor": 5
}
